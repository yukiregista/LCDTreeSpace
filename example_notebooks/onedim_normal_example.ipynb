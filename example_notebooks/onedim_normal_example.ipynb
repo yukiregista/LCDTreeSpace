{
 "cells": [
  {
   "cell_type": "markdown",
   "id": "c79c8a12",
   "metadata": {},
   "source": [
    "# One dimensional normal-like density example\n",
    "\n",
    "In this notebook, we estimate one-dimensional normal-like density on one dimensional tree space by log-concave MLE. "
   ]
  },
  {
   "cell_type": "code",
   "execution_count": 1,
   "id": "209b2265",
   "metadata": {},
   "outputs": [],
   "source": [
    "# importing packages\n",
    "import lcdtreespace as lcd\n",
    "import pandas as pd\n",
    "import numpy as np\n",
    "from importlib.resources import files\n",
    "import os\n",
    "import matplotlib.pyplot as plt"
   ]
  },
  {
   "cell_type": "markdown",
   "id": "8d96c006",
   "metadata": {},
   "source": [
    "## sample data\n",
    "\n",
    "We estimate following normal-like density:\n",
    "$$f(x) \\propto \\exp(-d(x,x_0)^2)$$\n",
    "where $x_0$ is a point at an orthant that is one unit away from the origin.\n",
    "\n",
    "Package lcdtreespace has sample data drawn from this density at ```files(\"lcdtreespace.data\").joinpath(\"case1\")```. \n",
    "\n",
    "The file \"testcase_{$n$}\\_{$i$}\\_X.npy\" contain sample coordinates with sample size $n$. \"testcase_{$n$}_{$i$}_ort.npy\" contains the orthants that each point belongs to."
   ]
  },
  {
   "cell_type": "code",
   "execution_count": 2,
   "id": "c8d922b2",
   "metadata": {},
   "outputs": [
    {
     "data": {
      "text/plain": [
       "array(['testcase_1000_0_X.npy', 'testcase_1000_0_ort.npy',\n",
       "       'testcase_1000_1_X.npy', 'testcase_1000_1_ort.npy',\n",
       "       'testcase_1000_2_X.npy', 'testcase_1000_2_ort.npy',\n",
       "       'testcase_1000_3_X.npy', 'testcase_1000_3_ort.npy',\n",
       "       'testcase_1000_4_X.npy', 'testcase_1000_4_ort.npy',\n",
       "       'testcase_1000_5_X.npy', 'testcase_1000_5_ort.npy',\n",
       "       'testcase_1000_6_X.npy', 'testcase_1000_6_ort.npy',\n",
       "       'testcase_1000_7_X.npy', 'testcase_1000_7_ort.npy',\n",
       "       'testcase_1000_8_X.npy', 'testcase_1000_8_ort.npy',\n",
       "       'testcase_1000_9_X.npy', 'testcase_1000_9_ort.npy',\n",
       "       'testcase_100_0_X.npy', 'testcase_100_0_ort.npy',\n",
       "       'testcase_100_1_X.npy', 'testcase_100_1_ort.npy',\n",
       "       'testcase_100_2_X.npy', 'testcase_100_2_ort.npy',\n",
       "       'testcase_100_3_X.npy', 'testcase_100_3_ort.npy',\n",
       "       'testcase_100_4_X.npy', 'testcase_100_4_ort.npy',\n",
       "       'testcase_100_5_X.npy', 'testcase_100_5_ort.npy',\n",
       "       'testcase_100_6_X.npy', 'testcase_100_6_ort.npy',\n",
       "       'testcase_100_7_X.npy', 'testcase_100_7_ort.npy',\n",
       "       'testcase_100_8_X.npy', 'testcase_100_8_ort.npy',\n",
       "       'testcase_100_9_X.npy', 'testcase_100_9_ort.npy',\n",
       "       'testcase_200_0_X.npy', 'testcase_200_0_ort.npy',\n",
       "       'testcase_200_1_X.npy', 'testcase_200_1_ort.npy',\n",
       "       'testcase_200_2_X.npy', 'testcase_200_2_ort.npy',\n",
       "       'testcase_200_3_X.npy', 'testcase_200_3_ort.npy',\n",
       "       'testcase_200_4_X.npy', 'testcase_200_4_ort.npy',\n",
       "       'testcase_200_5_X.npy', 'testcase_200_5_ort.npy',\n",
       "       'testcase_200_6_X.npy', 'testcase_200_6_ort.npy',\n",
       "       'testcase_200_7_X.npy', 'testcase_200_7_ort.npy',\n",
       "       'testcase_200_8_X.npy', 'testcase_200_8_ort.npy',\n",
       "       'testcase_200_9_X.npy', 'testcase_200_9_ort.npy',\n",
       "       'testcase_300_0_X.npy', 'testcase_300_0_ort.npy',\n",
       "       'testcase_300_1_X.npy', 'testcase_300_1_ort.npy',\n",
       "       'testcase_300_2_X.npy', 'testcase_300_2_ort.npy',\n",
       "       'testcase_300_3_X.npy', 'testcase_300_3_ort.npy',\n",
       "       'testcase_300_4_X.npy', 'testcase_300_4_ort.npy',\n",
       "       'testcase_300_5_X.npy', 'testcase_300_5_ort.npy',\n",
       "       'testcase_300_6_X.npy', 'testcase_300_6_ort.npy',\n",
       "       'testcase_300_7_X.npy', 'testcase_300_7_ort.npy',\n",
       "       'testcase_300_8_X.npy', 'testcase_300_8_ort.npy',\n",
       "       'testcase_300_9_X.npy', 'testcase_300_9_ort.npy',\n",
       "       'testcase_500_0_X.npy', 'testcase_500_0_ort.npy',\n",
       "       'testcase_500_1_X.npy', 'testcase_500_1_ort.npy',\n",
       "       'testcase_500_2_X.npy', 'testcase_500_2_ort.npy',\n",
       "       'testcase_500_3_X.npy', 'testcase_500_3_ort.npy',\n",
       "       'testcase_500_4_X.npy', 'testcase_500_4_ort.npy',\n",
       "       'testcase_500_5_X.npy', 'testcase_500_5_ort.npy',\n",
       "       'testcase_500_6_X.npy', 'testcase_500_6_ort.npy',\n",
       "       'testcase_500_7_X.npy', 'testcase_500_7_ort.npy',\n",
       "       'testcase_500_8_X.npy', 'testcase_500_8_ort.npy',\n",
       "       'testcase_500_9_X.npy', 'testcase_500_9_ort.npy'], dtype='<U23')"
      ]
     },
     "execution_count": 2,
     "metadata": {},
     "output_type": "execute_result"
    }
   ],
   "source": [
    "# list of sample data available\n",
    "np.sort(os.listdir(files(\"lcdtreespace.data\").joinpath(\"case1\")))"
   ]
  },
  {
   "cell_type": "markdown",
   "id": "8cde700e",
   "metadata": {},
   "source": [
    "## Computation of log-concave MLE\n",
    "\n",
    "Here, we compute the log-concave MLE from \"testcase_100_0\" files."
   ]
  },
  {
   "cell_type": "code",
   "execution_count": 3,
   "id": "2d739102",
   "metadata": {},
   "outputs": [
    {
     "data": {
      "text/plain": [
       "(array([0.04195692, 0.07185676, 0.07485287, 0.1015361 , 0.10716075,\n",
       "        0.11081239, 0.12492295, 0.16827274, 0.1824863 , 0.19280693,\n",
       "        0.19516114, 0.29847681, 0.35013732, 0.35182295, 0.36514085,\n",
       "        0.37876418, 0.38285669, 0.43377752, 0.47777892, 0.4834801 ,\n",
       "        0.51300183, 0.53602476, 0.53731471, 0.56619384, 0.56683272,\n",
       "        0.58245485, 0.59083689, 0.60028671, 0.60483872, 0.60850073,\n",
       "        0.61024123, 0.6134176 , 0.63996081, 0.65977716, 0.667791  ,\n",
       "        0.68410271, 0.69881883, 0.70592402, 0.77147078, 0.80374905,\n",
       "        0.86181359, 0.8641933 , 0.86829509, 0.884821  , 0.90449915,\n",
       "        0.93145653, 0.94289404, 0.9945869 , 0.99877817, 0.99990908,\n",
       "        1.00184565, 1.00435549, 1.00502889, 1.01099786, 1.01702011,\n",
       "        1.02172961, 1.0223421 , 1.02545426, 1.03720598, 1.05244023,\n",
       "        1.06232261, 1.06512453, 1.06852776, 1.09977796, 1.10585723,\n",
       "        1.11037858, 1.12705779, 1.1325355 , 1.13720614, 1.1412368 ,\n",
       "        1.1432949 , 1.14440982, 1.15458046, 1.20904283, 1.22113765,\n",
       "        1.22680768, 1.24535089, 1.2483602 , 1.24863726, 1.25802054,\n",
       "        1.26957994, 1.28949188, 1.29144184, 1.30123628, 1.32312692,\n",
       "        1.33540292, 1.36831605, 1.3685009 , 1.38376655, 1.38439945,\n",
       "        1.39018489, 1.40404164, 1.40569922, 1.43688929, 1.43992052,\n",
       "        1.44356384, 1.46199699, 1.47235819, 1.48779408, 1.48822418,\n",
       "        1.50488775, 1.51835981, 1.51931416, 1.63846559, 1.65249842,\n",
       "        1.6610472 , 1.7020664 , 1.70941581, 1.72996436, 1.75690179,\n",
       "        1.76125998, 1.78664746, 1.81545088, 1.84806986, 1.86348331,\n",
       "        1.88615879, 1.92316966, 1.93030705, 1.96579169, 2.01599107,\n",
       "        2.02451334, 2.03381595, 2.09043673, 2.09376995, 2.14841917,\n",
       "        2.14926398, 2.17565277, 2.32075285, 2.36448271, 2.38302248,\n",
       "        2.39226335, 2.43094285, 2.51271067, 2.51842837, 2.52116156,\n",
       "        2.60046614, 2.63634284, 2.70808333, 2.726794  , 2.90542942,\n",
       "        2.92243751, 2.92802695, 2.96384612, 3.21236541, 4.00316859,\n",
       "        0.02049253, 0.05052317, 0.07314738, 0.09017567, 0.11816822,\n",
       "        0.16718278, 0.24738699, 0.40471379, 0.41534374, 0.43003043,\n",
       "        0.44172088, 0.46300989, 0.47852849, 0.48492197, 0.48690734,\n",
       "        0.60340773, 0.73745834, 0.83009462, 0.85948096, 1.00088169,\n",
       "        1.08697557, 1.26641228, 1.268517  , 1.28627287, 1.46838079,\n",
       "        1.77972839, 0.00926793, 0.0225329 , 0.04784186, 0.06203645,\n",
       "        0.12768845, 0.1300036 , 0.16563794, 0.16996227, 0.19592194,\n",
       "        0.2061201 , 0.23795296, 0.28480731, 0.30814613, 0.31570435,\n",
       "        0.31979905, 0.32796114, 0.36212302, 0.38485425, 0.52248845,\n",
       "        0.56222601, 0.57123355, 0.58702535, 0.59217706, 0.64025181,\n",
       "        0.74987026, 0.78460855, 0.81333246, 1.29434132, 1.29978552]),\n",
       " array([0, 0, 0, 0, 0, 0, 0, 0, 0, 0, 0, 0, 0, 0, 0, 0, 0, 0, 0, 0, 0, 0,\n",
       "        0, 0, 0, 0, 0, 0, 0, 0, 0, 0, 0, 0, 0, 0, 0, 0, 0, 0, 0, 0, 0, 0,\n",
       "        0, 0, 0, 0, 0, 0, 0, 0, 0, 0, 0, 0, 0, 0, 0, 0, 0, 0, 0, 0, 0, 0,\n",
       "        0, 0, 0, 0, 0, 0, 0, 0, 0, 0, 0, 0, 0, 0, 0, 0, 0, 0, 0, 0, 0, 0,\n",
       "        0, 0, 0, 0, 0, 0, 0, 0, 0, 0, 0, 0, 0, 0, 0, 0, 0, 0, 0, 0, 0, 0,\n",
       "        0, 0, 0, 0, 0, 0, 0, 0, 0, 0, 0, 0, 0, 0, 0, 0, 0, 0, 0, 0, 0, 0,\n",
       "        0, 0, 0, 0, 0, 0, 0, 0, 0, 0, 0, 0, 0, 1, 1, 1, 1, 1, 1, 1, 1, 1,\n",
       "        1, 1, 1, 1, 1, 1, 1, 1, 1, 1, 1, 1, 1, 1, 1, 1, 1, 2, 2, 2, 2, 2,\n",
       "        2, 2, 2, 2, 2, 2, 2, 2, 2, 2, 2, 2, 2, 2, 2, 2, 2, 2, 2, 2, 2, 2,\n",
       "        2, 2]))"
      ]
     },
     "execution_count": 3,
     "metadata": {},
     "output_type": "execute_result"
    }
   ],
   "source": [
    "# load data\n",
    "x = np.load(files(\"lcdtreespace.data\").joinpath(\"case1\").joinpath(\"testcase_200_0_x.npy\"))\n",
    "ort = np.load(files(\"lcdtreespace.data\").joinpath(\"case1\").joinpath(\"testcase_200_0_ort.npy\"))\n",
    "x, ort\n",
    "# x contains coordinates, while ort contains the orthant each point belongs to"
   ]
  },
  {
   "cell_type": "markdown",
   "id": "c1e2a108",
   "metadata": {},
   "source": [
    "The computation of one dimensional log-concave MLE can be done by ```lcd.lcmle_1dim``` function. "
   ]
  },
  {
   "cell_type": "code",
   "execution_count": 8,
   "id": "a509abf9",
   "metadata": {},
   "outputs": [
    {
     "name": "stdout",
     "output_type": "stream",
     "text": [
      "run 0: 2.6226602128261485\n",
      "run 1: 2.6864856583610752\n",
      "run 2: 2.7623743002061536\n",
      "run 3: 2.6403797001765996\n",
      "run 4: 2.641292667610361\n",
      "run 5: 2.81506286529784\n",
      "run 6: 2.863088734621544\n",
      "run 7: 2.6111329007828026\n",
      "run 8: 2.6230901204700885\n",
      "run 9: 2.6113462602533533\n"
     ]
    }
   ],
   "source": [
    "# optimization with BFGS is fast but unstable, thus we conduct 10 runs and adopt the best result\n",
    "opt_y = lcd.lcmle_1dim(x=x,ort,3, print_objective=True,bend=False,runs=10)"
   ]
  },
  {
   "cell_type": "code",
   "execution_count": null,
   "id": "77245608",
   "metadata": {},
   "outputs": [],
   "source": []
  }
 ],
 "metadata": {
  "kernelspec": {
   "display_name": "lcdtreespace-test",
   "language": "python",
   "name": "lcdtreespace-test"
  },
  "language_info": {
   "codemirror_mode": {
    "name": "ipython",
    "version": 3
   },
   "file_extension": ".py",
   "mimetype": "text/x-python",
   "name": "python",
   "nbconvert_exporter": "python",
   "pygments_lexer": "ipython3",
   "version": "3.11.0"
  }
 },
 "nbformat": 4,
 "nbformat_minor": 5
}
