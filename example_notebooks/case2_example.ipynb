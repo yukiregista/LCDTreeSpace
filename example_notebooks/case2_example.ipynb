{
 "cells": [
  {
   "cell_type": "markdown",
   "id": "c79c8a12",
   "metadata": {},
   "source": [
    "# Case2 : One dimensional exponential-like density example\n",
    "\n",
    "In this notebook, we estimate exponential-like density on one-dimensional tree space by log-concave MLE. "
   ]
  },
  {
   "cell_type": "code",
   "execution_count": 2,
   "id": "209b2265",
   "metadata": {},
   "outputs": [],
   "source": [
    "# importing packages\n",
    "import lcdtreespace as lcd\n",
    "import pandas as pd\n",
    "import numpy as np\n",
    "from importlib.resources import files\n",
    "import os\n",
    "import matplotlib.pyplot as plt"
   ]
  },
  {
   "cell_type": "markdown",
   "id": "8d96c006",
   "metadata": {},
   "source": [
    "## sample data\n",
    "\n",
    "We estimate following normal-like density on one-dimensional tree space:\n",
    "$$f(x) \\propto \\begin{cases}\\exp(-d(x,x_0)) & \\text{if } x\\in O_1\\cap O_2 \\text{ or } d(x,0) < 1 \\\\ 0 & \\text{otherwise}\\end{cases}$$\n",
    "where $O_i$ denotes an orthant and $x_0$ is a point at an orthant $O_1$ that is one unit away from the origin.\n",
    "\n",
    "Package lcdtreespace has sample data drawn from this density at ```files(\"lcdtreespace\").joinpath(\"data\", \"case2\")```. \n",
    "\n",
    "The file \"testcase_{$n$}\\_{$i$}\\_X.npy\" contain sample coordinates with sample size $n$. \"testcase_{$n$}_{$i$}_ort.npy\" contains the orthants that each point belongs to.\n",
    "\n",
    "Here, we compute the log-concave MLE from \"testcase_200_0\" files."
   ]
  },
  {
   "cell_type": "code",
   "execution_count": 6,
   "id": "c8d922b2",
   "metadata": {},
   "outputs": [
    {
     "data": {
      "text/plain": [
       "array(['testcase_1000_0_X.npy', 'testcase_1000_0_ort.npy',\n",
       "       'testcase_1000_1_X.npy', 'testcase_1000_1_ort.npy',\n",
       "       'testcase_1000_2_X.npy', 'testcase_1000_2_ort.npy',\n",
       "       'testcase_1000_3_X.npy', 'testcase_1000_3_ort.npy',\n",
       "       'testcase_1000_4_X.npy', 'testcase_1000_4_ort.npy',\n",
       "       'testcase_1000_5_X.npy', 'testcase_1000_5_ort.npy',\n",
       "       'testcase_1000_6_X.npy', 'testcase_1000_6_ort.npy',\n",
       "       'testcase_1000_7_X.npy', 'testcase_1000_7_ort.npy',\n",
       "       'testcase_1000_8_X.npy', 'testcase_1000_8_ort.npy',\n",
       "       'testcase_1000_9_X.npy', 'testcase_1000_9_ort.npy',\n",
       "       'testcase_100_0_X.npy', 'testcase_100_0_ort.npy',\n",
       "       'testcase_100_1_X.npy', 'testcase_100_1_ort.npy',\n",
       "       'testcase_100_2_X.npy', 'testcase_100_2_ort.npy',\n",
       "       'testcase_100_3_X.npy', 'testcase_100_3_ort.npy',\n",
       "       'testcase_100_4_X.npy', 'testcase_100_4_ort.npy',\n",
       "       'testcase_100_5_X.npy', 'testcase_100_5_ort.npy',\n",
       "       'testcase_100_6_X.npy', 'testcase_100_6_ort.npy',\n",
       "       'testcase_100_7_X.npy', 'testcase_100_7_ort.npy',\n",
       "       'testcase_100_8_X.npy', 'testcase_100_8_ort.npy',\n",
       "       'testcase_100_9_X.npy', 'testcase_100_9_ort.npy',\n",
       "       'testcase_200_0_X.npy', 'testcase_200_0_ort.npy',\n",
       "       'testcase_200_1_X.npy', 'testcase_200_1_ort.npy',\n",
       "       'testcase_200_2_X.npy', 'testcase_200_2_ort.npy',\n",
       "       'testcase_200_3_X.npy', 'testcase_200_3_ort.npy',\n",
       "       'testcase_200_4_X.npy', 'testcase_200_4_ort.npy',\n",
       "       'testcase_200_5_X.npy', 'testcase_200_5_ort.npy',\n",
       "       'testcase_200_6_X.npy', 'testcase_200_6_ort.npy',\n",
       "       'testcase_200_7_X.npy', 'testcase_200_7_ort.npy',\n",
       "       'testcase_200_8_X.npy', 'testcase_200_8_ort.npy',\n",
       "       'testcase_200_9_X.npy', 'testcase_200_9_ort.npy',\n",
       "       'testcase_300_0_X.npy', 'testcase_300_0_ort.npy',\n",
       "       'testcase_300_1_X.npy', 'testcase_300_1_ort.npy',\n",
       "       'testcase_300_2_X.npy', 'testcase_300_2_ort.npy',\n",
       "       'testcase_300_3_X.npy', 'testcase_300_3_ort.npy',\n",
       "       'testcase_300_4_X.npy', 'testcase_300_4_ort.npy',\n",
       "       'testcase_300_5_X.npy', 'testcase_300_5_ort.npy',\n",
       "       'testcase_300_6_X.npy', 'testcase_300_6_ort.npy',\n",
       "       'testcase_300_7_X.npy', 'testcase_300_7_ort.npy',\n",
       "       'testcase_300_8_X.npy', 'testcase_300_8_ort.npy',\n",
       "       'testcase_300_9_X.npy', 'testcase_300_9_ort.npy',\n",
       "       'testcase_500_0_X.npy', 'testcase_500_0_ort.npy',\n",
       "       'testcase_500_1_X.npy', 'testcase_500_1_ort.npy',\n",
       "       'testcase_500_2_X.npy', 'testcase_500_2_ort.npy',\n",
       "       'testcase_500_3_X.npy', 'testcase_500_3_ort.npy',\n",
       "       'testcase_500_4_X.npy', 'testcase_500_4_ort.npy',\n",
       "       'testcase_500_5_X.npy', 'testcase_500_5_ort.npy',\n",
       "       'testcase_500_6_X.npy', 'testcase_500_6_ort.npy',\n",
       "       'testcase_500_7_X.npy', 'testcase_500_7_ort.npy',\n",
       "       'testcase_500_8_X.npy', 'testcase_500_8_ort.npy',\n",
       "       'testcase_500_9_X.npy', 'testcase_500_9_ort.npy'], dtype='<U23')"
      ]
     },
     "execution_count": 6,
     "metadata": {},
     "output_type": "execute_result"
    }
   ],
   "source": [
    "# list of sample data available\n",
    "np.sort(os.listdir(files(\"lcdtreespace\").joinpath(\"data\", \"case2\")))"
   ]
  },
  {
   "cell_type": "code",
   "execution_count": 7,
   "id": "2d739102",
   "metadata": {},
   "outputs": [
    {
     "data": {
      "text/plain": [
       "(array([2.56962434e-02, 3.98390593e-02, 1.01458414e-01, 1.06294871e-01,\n",
       "        1.07595876e-01, 1.09819800e-01, 1.12694708e-01, 1.13464649e-01,\n",
       "        1.20263390e-01, 1.27075845e-01, 1.32370684e-01, 1.33057209e-01,\n",
       "        1.36538118e-01, 1.49571376e-01, 1.66209441e-01, 1.76849567e-01,\n",
       "        1.79844701e-01, 1.83469860e-01, 2.16114190e-01, 2.22332106e-01,\n",
       "        2.26929072e-01, 2.43686613e-01, 2.49121938e-01, 2.53730130e-01,\n",
       "        2.57687553e-01, 2.59701372e-01, 2.60790365e-01, 2.70661933e-01,\n",
       "        3.21653483e-01, 3.32562500e-01, 3.37626102e-01, 3.53963890e-01,\n",
       "        3.56583513e-01, 3.56824250e-01, 3.64933617e-01, 3.74807440e-01,\n",
       "        3.91519358e-01, 3.93136008e-01, 4.01203108e-01, 4.18916177e-01,\n",
       "        4.28660684e-01, 4.54132406e-01, 4.54272813e-01, 4.65767629e-01,\n",
       "        4.66239930e-01, 4.70541659e-01, 4.80730966e-01, 4.81939161e-01,\n",
       "        5.04254347e-01, 5.06381137e-01, 5.08927680e-01, 5.21650551e-01,\n",
       "        5.28685076e-01, 5.39011042e-01, 5.39296150e-01, 5.50233958e-01,\n",
       "        5.58924311e-01, 5.59534803e-01, 6.30643419e-01, 6.38377380e-01,\n",
       "        6.43025543e-01, 6.64674052e-01, 6.68440339e-01, 6.78793035e-01,\n",
       "        6.91974723e-01, 6.94066465e-01, 7.06028679e-01, 7.19148306e-01,\n",
       "        7.33440706e-01, 7.39990328e-01, 7.49392969e-01, 7.64158141e-01,\n",
       "        7.66924265e-01, 7.80295972e-01, 7.98161783e-01, 8.01076200e-01,\n",
       "        8.04219018e-01, 8.22502996e-01, 8.23535139e-01, 8.39782553e-01,\n",
       "        8.40023928e-01, 8.47417674e-01, 8.83311029e-01, 8.92665505e-01,\n",
       "        8.96442170e-01, 8.98283639e-01, 9.05703255e-01, 9.19932625e-01,\n",
       "        9.20857368e-01, 9.21296290e-01, 9.33182986e-01, 9.38047686e-01,\n",
       "        9.46892944e-01, 9.49017223e-01, 9.65942957e-01, 9.67269541e-01,\n",
       "        9.67695762e-01, 9.70316234e-01, 9.83969000e-01, 9.98421599e-01,\n",
       "        1.68509993e-02, 7.03874115e-02, 9.22994749e-02, 1.42788466e-01,\n",
       "        1.64818341e-01, 1.84801728e-01, 2.04049485e-01, 2.10308381e-01,\n",
       "        2.13636732e-01, 2.26723157e-01, 2.38249242e-01, 2.38721801e-01,\n",
       "        2.61139747e-01, 2.78377326e-01, 3.04950252e-01, 3.38453656e-01,\n",
       "        3.91281806e-01, 4.43077510e-01, 5.78622638e-01, 5.89600331e-01,\n",
       "        5.92438499e-01, 6.17492274e-01, 6.19809904e-01, 6.89189283e-01,\n",
       "        7.48904017e-01, 7.53099368e-01, 7.71179759e-01, 7.88729837e-01,\n",
       "        8.76330991e-01, 9.41277571e-01, 1.14230166e+00, 1.20431578e+00,\n",
       "        1.21892789e+00, 1.32232865e+00, 1.40637137e+00, 1.46881201e+00,\n",
       "        1.49851236e+00, 1.51080798e+00, 1.58375583e+00, 1.66222873e+00,\n",
       "        1.71188626e+00, 1.72226802e+00, 1.74497905e+00, 2.18954539e+00,\n",
       "        2.29241719e+00, 2.82695103e+00, 3.28654560e+00, 3.33308481e+00,\n",
       "        3.35432658e+00, 3.36869265e+00, 4.19191470e-03, 2.75851308e-02,\n",
       "        3.02637977e-02, 3.18204713e-02, 1.37781987e-01, 1.53203438e-01,\n",
       "        1.70551389e-01, 2.06364746e-01, 2.07634459e-01, 2.20562305e-01,\n",
       "        2.60177186e-01, 3.00633488e-01, 3.77589200e-01, 3.80749114e-01,\n",
       "        4.01597674e-01, 4.02904619e-01, 5.23801829e-01, 5.25642286e-01,\n",
       "        5.33709213e-01, 5.44813896e-01, 5.96807790e-01, 6.42876218e-01,\n",
       "        7.06442248e-01, 7.09589289e-01, 8.15820530e-01, 8.60865866e-01,\n",
       "        8.80103002e-01, 9.38713179e-01, 9.45896378e-01, 9.89340781e-01,\n",
       "        1.00655929e+00, 1.06085697e+00, 1.07710947e+00, 1.18355062e+00,\n",
       "        1.19700625e+00, 1.28069023e+00, 1.35906223e+00, 1.37886056e+00,\n",
       "        1.42839987e+00, 1.51463320e+00, 1.68020428e+00, 1.82024755e+00,\n",
       "        2.02445316e+00, 2.05111697e+00, 2.12645571e+00, 2.22669512e+00,\n",
       "        2.61927550e+00, 3.28104782e+00, 3.82684888e+00, 4.74104124e+00]),\n",
       " array([0, 0, 0, 0, 0, 0, 0, 0, 0, 0, 0, 0, 0, 0, 0, 0, 0, 0, 0, 0, 0, 0,\n",
       "        0, 0, 0, 0, 0, 0, 0, 0, 0, 0, 0, 0, 0, 0, 0, 0, 0, 0, 0, 0, 0, 0,\n",
       "        0, 0, 0, 0, 0, 0, 0, 0, 0, 0, 0, 0, 0, 0, 0, 0, 0, 0, 0, 0, 0, 0,\n",
       "        0, 0, 0, 0, 0, 0, 0, 0, 0, 0, 0, 0, 0, 0, 0, 0, 0, 0, 0, 0, 0, 0,\n",
       "        0, 0, 0, 0, 0, 0, 0, 0, 0, 0, 0, 0, 1, 1, 1, 1, 1, 1, 1, 1, 1, 1,\n",
       "        1, 1, 1, 1, 1, 1, 1, 1, 1, 1, 1, 1, 1, 1, 1, 1, 1, 1, 1, 1, 1, 1,\n",
       "        1, 1, 1, 1, 1, 1, 1, 1, 1, 1, 1, 1, 1, 1, 1, 1, 1, 1, 2, 2, 2, 2,\n",
       "        2, 2, 2, 2, 2, 2, 2, 2, 2, 2, 2, 2, 2, 2, 2, 2, 2, 2, 2, 2, 2, 2,\n",
       "        2, 2, 2, 2, 2, 2, 2, 2, 2, 2, 2, 2, 2, 2, 2, 2, 2, 2, 2, 2, 2, 2,\n",
       "        2, 2]))"
      ]
     },
     "execution_count": 7,
     "metadata": {},
     "output_type": "execute_result"
    }
   ],
   "source": [
    "# load data\n",
    "x = np.load(files(\"lcdtreespace\").joinpath(\"data\", \"case2\", \"testcase_200_0_x.npy\"))\n",
    "ort = np.load(files(\"lcdtreespace\").joinpath(\"data\", \"case2\", \"testcase_200_0_ort.npy\"))\n",
    "x, ort\n",
    "# x contains coordinates, while ort contains the orthant each point belongs to"
   ]
  },
  {
   "cell_type": "markdown",
   "id": "8cde700e",
   "metadata": {},
   "source": [
    "## Computation of log-concave MLE"
   ]
  },
  {
   "cell_type": "markdown",
   "id": "c1e2a108",
   "metadata": {},
   "source": [
    "The computation of one dimensional log-concave MLE can be done by ```lcd.lcmle_1dim``` function. "
   ]
  },
  {
   "cell_type": "code",
   "execution_count": 4,
   "id": "a509abf9",
   "metadata": {
    "scrolled": true
   },
   "outputs": [
    {
     "name": "stdout",
     "output_type": "stream",
     "text": [
      "run 0: 2.5987742232485296\n",
      "run 1: 2.6897607074039867\n"
     ]
    },
    {
     "name": "stderr",
     "output_type": "stream",
     "text": [
      "\n",
      "KeyboardInterrupt\n",
      "\n"
     ]
    }
   ],
   "source": [
    "# optimization with BFGS is fast but unstable, thus we conduct 10 runs and adopt the best result\n",
    "opt_y = lcd.lcmle_1dim(x=x,ort = ort,n_ort = 3, print_objective=True,bend=False,runs=10)"
   ]
  },
  {
   "cell_type": "code",
   "execution_count": null,
   "id": "77245608",
   "metadata": {},
   "outputs": [],
   "source": [
    "# density object\n",
    "lcmle = lcd.logconcave_density_estimate_1dim(opt_y, x, ort, 3, bend=False) # log-concave MLE\n",
    "true_density = lcd.exponential_1dim(mu=1,lam=1) # true density"
   ]
  },
  {
   "cell_type": "code",
   "execution_count": null,
   "id": "62713f2f",
   "metadata": {},
   "outputs": [],
   "source": [
    "# plot of estimated density and true density\n",
    "fig, axes = plt.subplots(1,3,figsize=(10,3))\n",
    "xx = np.arange(0,3,0.1)\n",
    "axes[0].plot(xx, np.vectorize(lcmle.pdf)(xx,0), c = \"blue\")\n",
    "axes[0].plot(xx, np.vectorize(true_density.pdf)(xx,0), c = \"red\")\n",
    "axes[0].set_title(\"Orthant 0\")\n",
    "axes[1].plot(xx, np.vectorize(lcmle.pdf)(xx,1), c = \"blue\")\n",
    "axes[1].plot(xx, np.vectorize(true_density.pdf)(xx,1), c = \"red\")\n",
    "axes[1].set_title(\"Orthant 1\")\n",
    "axes[2].plot(xx, np.vectorize(lcmle.pdf)(xx,2), c = \"blue\", label = \"Estimate\")\n",
    "axes[2].plot(xx, np.vectorize(true_density.pdf)(xx,2), c = \"red\", label = \"True\")\n",
    "axes[2].set_title(\"Orthant 2\")\n",
    "fig.legend()"
   ]
  },
  {
   "cell_type": "markdown",
   "id": "044f7796",
   "metadata": {},
   "source": [
    "## Kernel density estimator\n",
    "To compare the result, we also compute the kernel density estimator from the same sample."
   ]
  },
  {
   "cell_type": "code",
   "execution_count": null,
   "id": "caeca22a",
   "metadata": {},
   "outputs": [],
   "source": [
    "kde = lcd.kernel_density_estimate_1dim(x, ort, 3)"
   ]
  },
  {
   "cell_type": "code",
   "execution_count": null,
   "id": "fbb791ed",
   "metadata": {},
   "outputs": [],
   "source": [
    "# plot of kernel density estimate and true_density\n",
    "# Kernel density estimator\n",
    "bin_edges = [k for k in np.arange(0,3.1,1/4)]\n",
    "fig, axes = plt.subplots(1,3,figsize=(10,3))\n",
    "xx = np.arange(0,3,0.01)\n",
    "axes[0].plot(xx, np.vectorize(kde.pdf)(xx,0), c = \"blue\")\n",
    "axes[0].plot(xx, np.vectorize(true_density.pdf)(xx,0), c = \"red\")\n",
    "axes[0].hist(x[ort==0], bins = bin_edges, weights = [ 4/len(x)  for  _ in range(len(x[ort==0])) ] , alpha=0.5)\n",
    "axes[0].set_title(\"Orthant 0\")\n",
    "axes[1].plot(xx, np.vectorize(kde.pdf)(xx,1), c = \"blue\")\n",
    "axes[1].plot(xx, np.vectorize(true_density.pdf)(xx,1), c = \"red\")\n",
    "axes[1].hist(x[ort==1], bins = bin_edges, weights = [ 4/len(x)  for  _ in range(len(x[ort==1])) ] , alpha=0.5)\n",
    "axes[1].set_title(\"Orthant 1\")\n",
    "axes[2].plot(xx, np.vectorize(kde.pdf)(xx,2), c = \"blue\", label = \"Estimate\")\n",
    "axes[2].plot(xx, np.vectorize(true_density.pdf)(xx,2), c = \"red\", label = \"True\")\n",
    "axes[2].hist(x[ort==2], bins = bin_edges, weights = [ 4/len(x)  for  _ in range(len(x[ort==2])) ] , alpha=0.5, label=\"histogram\\n (normalized)\")\n",
    "axes[2].set_title(\"Orthant 2\")\n",
    "fig.legend()"
   ]
  },
  {
   "cell_type": "markdown",
   "id": "874faa7f",
   "metadata": {},
   "source": [
    "## Computation of Integrated Squared Error (ISE)"
   ]
  },
  {
   "cell_type": "code",
   "execution_count": 21,
   "id": "08617d22",
   "metadata": {},
   "outputs": [],
   "source": [
    "# calculation of integrted squared error\n",
    "lcmle_ise, lcmle_err = lcd.ise_1dim(true_density, lcmle, epsabs = 1e-5)\n",
    "kde_ise, kde_err = lcd.ise_1dim(true_density, kde, epsabs = 1e-5)"
   ]
  },
  {
   "cell_type": "code",
   "execution_count": 22,
   "id": "5fe51ee7",
   "metadata": {},
   "outputs": [
    {
     "data": {
      "text/plain": [
       "(0.0027178084914566735, 0.021975682315813587)"
      ]
     },
     "execution_count": 22,
     "metadata": {},
     "output_type": "execute_result"
    }
   ],
   "source": [
    "lcmle_ise, kde_ise"
   ]
  }
 ],
 "metadata": {
  "kernelspec": {
   "display_name": "lcdtreespace-test",
   "language": "python",
   "name": "lcdtreespace-test"
  },
  "language_info": {
   "codemirror_mode": {
    "name": "ipython",
    "version": 3
   },
   "file_extension": ".py",
   "mimetype": "text/x-python",
   "name": "python",
   "nbconvert_exporter": "python",
   "pygments_lexer": "ipython3",
   "version": "3.11.0"
  }
 },
 "nbformat": 4,
 "nbformat_minor": 5
}
